{
 "cells": [
  {
   "cell_type": "code",
   "execution_count": null,
   "metadata": {},
   "outputs": [],
   "source": [
    "import numpy as np\n",
    "from utils.utils_evaluation import smd_compute_f1, nasa_compute_f1, swat_compute_f1"
   ]
  },
  {
   "cell_type": "markdown",
   "metadata": {},
   "source": [
    "# SMD"
   ]
  },
  {
   "cell_type": "code",
   "execution_count": null,
   "metadata": {},
   "outputs": [],
   "source": [
    "smd_scores = []\n",
    "for i in range(1, 5):\n",
    "    experiment = f'DGHL_{i}'\n",
    "    f1, _, _ = smd_compute_f1(scores_dir=f'../results/{experiment}', data_dir='../data')\n",
    "    print(f1)\n",
    "    smd_scores.append(f1)"
   ]
  },
  {
   "cell_type": "code",
   "execution_count": null,
   "metadata": {},
   "outputs": [],
   "source": [
    "print(100*np.mean(smd_scores))\n",
    "print(100*np.std(smd_scores))"
   ]
  },
  {
   "cell_type": "markdown",
   "metadata": {},
   "source": [
    "# SMAP"
   ]
  },
  {
   "cell_type": "code",
   "execution_count": null,
   "metadata": {},
   "outputs": [],
   "source": [
    "smap_scores = []\n",
    "for i in range(1, 5):\n",
    "    experiment = f'DGHL_{i}'\n",
    "    f1, _, _ = nasa_compute_f1(dataset='SMAP', scores_dir=f'../results/{experiment}', data_dir='../data')\n",
    "    print(f1)\n",
    "    smap_scores.append(f1)"
   ]
  },
  {
   "cell_type": "code",
   "execution_count": null,
   "metadata": {},
   "outputs": [],
   "source": [
    "print(100*np.mean(smap_scores))\n",
    "print(100*np.std(smap_scores))"
   ]
  },
  {
   "cell_type": "markdown",
   "metadata": {},
   "source": [
    "# MSL"
   ]
  },
  {
   "cell_type": "code",
   "execution_count": null,
   "metadata": {},
   "outputs": [],
   "source": [
    "msl_scores = []\n",
    "for i in range(1, 5):\n",
    "    experiment = f'DGHL_{i}'\n",
    "    f1, _, _ = nasa_compute_f1(dataset='MSL', scores_dir=f'../results/{experiment}', data_dir='../data')\n",
    "    print(f1)\n",
    "    msl_scores.append(f1)"
   ]
  },
  {
   "cell_type": "code",
   "execution_count": null,
   "metadata": {},
   "outputs": [],
   "source": [
    "print(100*np.mean(msl_scores))\n",
    "print(100*np.std(msl_scores))"
   ]
  },
  {
   "cell_type": "markdown",
   "metadata": {},
   "source": [
    "# SWAT"
   ]
  },
  {
   "cell_type": "code",
   "execution_count": null,
   "metadata": {},
   "outputs": [],
   "source": [
    "swat_scores = []\n",
    "for i in range(1, 5):\n",
    "    experiment = f'DGHL_{i}'\n",
    "    f1, _, _ = swat_compute_f1(results_dir=f'../results/{experiment}')\n",
    "    print(f1)\n",
    "    swat_scores.append(f1)"
   ]
  },
  {
   "cell_type": "code",
   "execution_count": null,
   "metadata": {},
   "outputs": [],
   "source": [
    "print(100*np.mean(swat_scores))\n",
    "print(100*np.std(swat_scores))"
   ]
  },
  {
   "cell_type": "code",
   "execution_count": null,
   "metadata": {},
   "outputs": [],
   "source": []
  }
 ],
 "metadata": {
  "interpreter": {
   "hash": "ac1fdeb1ce2366e7e2769624fd539aeb722b48550ebd29a4eef1c2542b74e34e"
  },
  "kernelspec": {
   "display_name": "Python 3.7.2 64-bit ('mad': conda)",
   "name": "python3"
  },
  "language_info": {
   "codemirror_mode": {
    "name": "ipython",
    "version": 3
   },
   "file_extension": ".py",
   "mimetype": "text/x-python",
   "name": "python",
   "nbconvert_exporter": "python",
   "pygments_lexer": "ipython3",
   "version": "3.7.2"
  },
  "orig_nbformat": 4
 },
 "nbformat": 4,
 "nbformat_minor": 2
}
